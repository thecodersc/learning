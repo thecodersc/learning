{
 "cells": [
  {
   "cell_type": "markdown",
   "metadata": {},
   "source": [
    "# I will quickly calculate what speed is needed to travel to mars in 30 seconds"
   ]
  },
  {
   "cell_type": "markdown",
   "metadata": {},
   "source": [
    "Data: \n",
    "<br>\n",
    "distance to Mars = 54.6 millinon km\n",
    "<br>\n",
    "time needed 30 seconds\n",
    "<br>\n",
    "Velocity:\n",
    "\n",
    "$V=d/t$\n"
   ]
  },
  {
   "cell_type": "code",
   "execution_count": 5,
   "metadata": {},
   "outputs": [
    {
     "name": "stdout",
     "output_type": "stream",
     "text": [
      "You need to travel with 1820000.0\n"
     ]
    }
   ],
   "source": [
    "d=54600000 #M km\n",
    "t=30 # sec\n",
    "v=d/t #km/s\n",
    "print('You need to travel with ' + str(v) + 'km /sec to mars')\n"
   ]
  },
  {
   "cell_type": "code",
   "execution_count": null,
   "metadata": {
    "collapsed": true
   },
   "outputs": [],
   "source": []
  }
 ],
 "metadata": {
  "kernelspec": {
   "display_name": "Python 3",
   "language": "python",
   "name": "python3"
  },
  "language_info": {
   "codemirror_mode": {
    "name": "ipython",
    "version": 3
   },
   "file_extension": ".py",
   "mimetype": "text/x-python",
   "name": "python",
   "nbconvert_exporter": "python",
   "pygments_lexer": "ipython3",
   "version": "3.6.1"
  }
 },
 "nbformat": 4,
 "nbformat_minor": 2
}
